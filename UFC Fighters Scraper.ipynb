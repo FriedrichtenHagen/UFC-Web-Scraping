{
 "cells": [
  {
   "cell_type": "code",
   "execution_count": 1,
   "id": "2973c485",
   "metadata": {},
   "outputs": [],
   "source": [
    "import requests\n",
    "import bs4\n",
    "import re\n",
    "import csv\n",
    "from string import ascii_lowercase\n",
    "import os"
   ]
  },
  {
   "cell_type": "code",
   "execution_count": 11,
   "id": "bab0c789",
   "metadata": {},
   "outputs": [],
   "source": [
    "def create_csv_file():\n",
    "    if 'ufc_fighter_data.csv' not in os.listdir():\n",
    "        with open('ufc_fighter_data.csv','w',newline='',encoding='UTF8') as ufc_fighter_data:\n",
    "            writer = csv.writer(ufc_fighter_data)\n",
    "            writer.writerow(['fighter_f_name',\n",
    "                             'fighter_l_name',\n",
    "                             'fighter_nickname',\n",
    "                             'fighter_height_cm',\n",
    "                             'fighter_weight_lbs',\n",
    "                             'fighter_reach_cm',\n",
    "                             'fighter_stance',\n",
    "                             'fighter_dob',\n",
    "                             'fighter_w',\n",
    "                             'fighter_l',\n",
    "                             'fighter_d',\n",
    "                             'fighter_nc_dq',\n",
    "                             'fighter_url'])\n",
    "    else:\n",
    "        pass"
   ]
  },
  {
   "cell_type": "code",
   "execution_count": 4,
   "id": "5f4b2636",
   "metadata": {},
   "outputs": [],
   "source": [
    "def get_fighter_urls():\n",
    "    main_url_list = [requests.get(f'http://ufcstats.com/statistics/fighters?char={letter}&page=all') for letter in ascii_lowercase]\n",
    "    main_soup_list = [bs4.BeautifulSoup(url.text,'lxml') for url in main_url_list]\n",
    "    all_links = []\n",
    "    \n",
    "    for item in main_soup_list:\n",
    "        for item in item.select('a.b-link')[1::3]:\n",
    "            all_links.append(item.get('href')) \n",
    "    \n",
    "    return all_links"
   ]
  },
  {
   "cell_type": "code",
   "execution_count": 36,
   "id": "7849f7a4",
   "metadata": {},
   "outputs": [],
   "source": [
    "def get_fighter_data(fighter_urls):\n",
    "    \n",
    "    with open('ufc_fighter_data.csv','a+') as ufc_fighters:\n",
    "        writer = csv.writer(ufc_fighters)\n",
    "        \n",
    "    \n",
    "        for url in fighter_urls:\n",
    "            fighter_url = requests.get(url)\n",
    "            fighter_soup = bs4.BeautifulSoup(fighter_url.text,'lxml')\n",
    "\n",
    "            select_name = fighter_soup.select('span')[0].text.split()\n",
    "            select_nickname = fighter_soup.select('p.b-content__Nickname')\n",
    "            select_details = fighter_soup.select('li.b-list__box-list-item')\n",
    "            select_record = fighter_soup.select('span.b-content__title-record')[0].text.split(':')[1].strip().split('-')\n",
    "\n",
    "            if len(select_name)>1:\n",
    "                fighter_f_name = select_name[0]\n",
    "                fighter_l_name = select_name[-1]\n",
    "            else:\n",
    "                fighter_f_name = select_name[0]\n",
    "                fighter_l_name = None\n",
    "            if select_nickname[0].text == '\\n':\n",
    "                fighter_nickname = None\n",
    "            else:\n",
    "                fighter_nickname = select_nickname[0].text\n",
    "            if '--' in select_details[0].text.split(':')[1].strip().split(\"'\"):\n",
    "                fighter_height_cm = None\n",
    "            else:\n",
    "                fighter_height_ft = select_details[0].text.split(':')[1].strip()[0]\n",
    "                fighter_height_in = select_details[0].text.split(':')[1].strip().split(\"'\")[1].strip().strip('\"')\n",
    "                fighter_height_cm = ((int(fighter_height_ft)*12.0)*2.54)+(int(fighter_height_in)*2.54)\n",
    "            if '--' in select_details[1].text.split(':')[1]:\n",
    "                fighter_weight_lbs = None\n",
    "            else:\n",
    "                fighter_weight_lbs = select_details[1].text.split(':')[1].split()[0]\n",
    "            if '--' in select_details[2].text.split(':')[1]:\n",
    "                fighter_reach_cm = None\n",
    "            else:\n",
    "                fighter_reach_cm = round(int(select_details[2].text.split(':')[1].strip().strip('\"'))*2.54,2)\n",
    "            if select_details[3].text.split(':')[1].strip()=='':\n",
    "                fighter_stance = None\n",
    "            else:\n",
    "                fighter_stance = select_details[3].text.split(':')[1].strip()\n",
    "            fighter_dob = select_details[4].text.split(':')[1]\n",
    "            fighter_w = select_record[0]\n",
    "            fighter_l = select_record[1]\n",
    "            if len(select_record[-1]) > 1:\n",
    "                fighter_d = select_record[-1][0]\n",
    "            else:\n",
    "                fighter_d = select_record[-1]\n",
    "            if len(select_record[-1]) > 1:\n",
    "                 fighter_nc_dq = select_record[-1].split('(')[-1][0]\n",
    "            else:\n",
    "                fighter_nc_dq = None\n",
    "\n",
    "            writer.writerow([fighter_f_name.strip(), \n",
    "                             fighter_l_name.strip(), \n",
    "                             fighter_nickname.strip(),\n",
    "                             fighter_height_cm,\n",
    "                             fighter_weight_lbs.strip(),\n",
    "                             fighter_reach_cm,\n",
    "                             fighter_stance.strip(),\n",
    "                             fighter_dob.strip(),\n",
    "                             fighter_w,\n",
    "                             fighter_l,\n",
    "                             fighter_d,\n",
    "                             fighter_nc_dq,\n",
    "                             url])"
   ]
  },
  {
   "cell_type": "code",
   "execution_count": 34,
   "id": "ee007037",
   "metadata": {},
   "outputs": [],
   "source": [
    "create_csv_file()"
   ]
  },
  {
   "cell_type": "code",
   "execution_count": 35,
   "id": "d23b6d24",
   "metadata": {},
   "outputs": [],
   "source": [
    "get_fighter_data(fighter_urls)"
   ]
  },
  {
   "cell_type": "code",
   "execution_count": null,
   "id": "3959f71a",
   "metadata": {},
   "outputs": [],
   "source": []
  },
  {
   "cell_type": "code",
   "execution_count": null,
   "id": "1d66bde4",
   "metadata": {},
   "outputs": [],
   "source": []
  }
 ],
 "metadata": {
  "kernelspec": {
   "display_name": "Python 3 (ipykernel)",
   "language": "python",
   "name": "python3"
  },
  "language_info": {
   "codemirror_mode": {
    "name": "ipython",
    "version": 3
   },
   "file_extension": ".py",
   "mimetype": "text/x-python",
   "name": "python",
   "nbconvert_exporter": "python",
   "pygments_lexer": "ipython3",
   "version": "3.9.12"
  }
 },
 "nbformat": 4,
 "nbformat_minor": 5
}
